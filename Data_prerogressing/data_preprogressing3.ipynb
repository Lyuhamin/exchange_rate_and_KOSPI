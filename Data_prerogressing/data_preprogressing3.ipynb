{
 "cells": [
  {
   "cell_type": "code",
   "execution_count": 1,
   "metadata": {},
   "outputs": [
    {
     "name": "stdout",
     "output_type": "stream",
     "text": [
      "GOLD 데이터 전처리 및 저장 완료.\n",
      "        date  gold_price\n",
      "0 2022-12-12     1794.48\n",
      "1 2022-12-13     1783.03\n",
      "2 2022-12-14     1810.62\n",
      "3 2022-12-15     1807.00\n",
      "4 2022-12-16     1777.77\n"
     ]
    }
   ],
   "source": [
    "import pandas as pd\n",
    "\n",
    "# GOLD 데이터 로드\n",
    "gold_df = pd.read_csv(\"C:/Users/유하민/git/exchange_rate_and_KOSPI/data/raw_data/GOLD_221212-241211.csv\")\n",
    "\n",
    "# 컬럼명 수정 및 날짜 변환\n",
    "gold_df = gold_df.rename(columns={\"category\": \"date\", \"금\": \"gold_price\"})\n",
    "gold_df['date'] = pd.to_datetime(gold_df['date'], format='%a %b %d %Y')  # 날짜 형식 변환\n",
    "\n",
    "# 결측치 처리\n",
    "gold_df = gold_df.dropna(subset=['gold_price'])\n",
    "\n",
    "# 데이터 정렬\n",
    "gold_df = gold_df.sort_values(by='date')\n",
    "\n",
    "# 전처리된 데이터 저장 (파일명 지정)\n",
    "output_path = \"C:/Users/유하민/git/exchange_rate_and_KOSPI/data/processed/gold_preprocessed.csv\"\n",
    "gold_df.to_csv(output_path, index=False)\n",
    "\n",
    "# 확인\n",
    "print(\"GOLD 데이터 전처리 및 저장 완료.\")\n",
    "print(gold_df.head())\n"
   ]
  },
  {
   "cell_type": "code",
   "execution_count": 2,
   "metadata": {},
   "outputs": [
    {
     "name": "stdout",
     "output_type": "stream",
     "text": [
      "WTI 데이터 전처리 및 저장 완료.\n",
      "          date  wti_price\n",
      "244 2022-12-01      74.07\n",
      "495 2022-12-02      68.10\n",
      "496 2022-12-03      69.94\n",
      "497 2022-12-04      68.54\n",
      "245 2022-12-04      73.04\n"
     ]
    }
   ],
   "source": [
    "import pandas as pd\n",
    "import re\n",
    "\n",
    "# WTI 데이터 로드\n",
    "wti_df = pd.read_csv(\"C:/Users/유하민/git/exchange_rate_and_KOSPI/data/raw_data/WTI_221212-241211.csv\")\n",
    "\n",
    "# 특수문자 제거: 컬럼명 정리\n",
    "wti_df.columns = wti_df.columns.str.strip().str.replace('\\ufeff', '')\n",
    "\n",
    "# 컬럼명 수정\n",
    "wti_df = wti_df.rename(columns={\"일\": \"date\", \"WTI\": \"wti_price\"})\n",
    "\n",
    "# 필요 없는 컬럼 제거\n",
    "if \"유종\" in wti_df.columns:\n",
    "    wti_df = wti_df.drop(columns=[\"유종\"])\n",
    "\n",
    "# 날짜 형식 변환 및 결측치 처리\n",
    "wti_df['date'] = wti_df['date'].astype(str).str.strip().apply(lambda x: re.sub(r'\\s+', '', x))\n",
    "wti_df['date'] = pd.to_datetime(wti_df['date'], format='%m월%d일', errors='coerce')\n",
    "\n",
    "# 연도 설정 (2022년 12월 이후 데이터로 가정)\n",
    "wti_df['date'] = wti_df['date'].apply(lambda x: x.replace(year=2022) if x.month >= 12 else x.replace(year=2023))\n",
    "wti_df = wti_df.dropna(subset=['date', 'wti_price'])\n",
    "\n",
    "# 데이터 정렬\n",
    "wti_df = wti_df.sort_values(by='date')\n",
    "\n",
    "# 전처리된 데이터 저장\n",
    "output_path = \"C:/Users/유하민/git/exchange_rate_and_KOSPI/data/processed/WTI_preprocessed.csv\"\n",
    "wti_df.to_csv(output_path, index=False)\n",
    "\n",
    "# 확인\n",
    "print(\"WTI 데이터 전처리 및 저장 완료.\")\n",
    "print(wti_df.head())\n"
   ]
  },
  {
   "cell_type": "code",
   "execution_count": 15,
   "metadata": {},
   "outputs": [
    {
     "name": "stdout",
     "output_type": "stream",
     "text": [
      "Index(['Date', 'Close', 'Open', 'High', 'Low', 'Volume'], dtype='object')\n"
     ]
    }
   ],
   "source": [
    "import pandas as pd\n",
    "\n",
    "# 파일 불러오기\n",
    "df = pd.read_csv(\"C:/Users/유하민/git/exchange_rate_and_KOSPI/data/processed/nas_preprocessed.csv\")\n",
    "\n",
    "# 컬럼 확인\n",
    "print(df.columns)\n"
   ]
  }
 ],
 "metadata": {
  "kernelspec": {
   "display_name": "wpy38",
   "language": "python",
   "name": "python3"
  },
  "language_info": {
   "codemirror_mode": {
    "name": "ipython",
    "version": 3
   },
   "file_extension": ".py",
   "mimetype": "text/x-python",
   "name": "python",
   "nbconvert_exporter": "python",
   "pygments_lexer": "ipython3",
   "version": "3.8.20"
  }
 },
 "nbformat": 4,
 "nbformat_minor": 2
}
