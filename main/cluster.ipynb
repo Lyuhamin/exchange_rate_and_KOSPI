{
 "cells": [
  {
   "cell_type": "code",
   "execution_count": null,
   "metadata": {},
   "outputs": [],
   "source": [
    "# 클러스터링 분석 코드\n",
    "\n",
    "import pandas as pd\n",
    "import matplotlib.pyplot as plt\n",
    "from sklearn.cluster import KMeans\n",
    "from sklearn.preprocessing import StandardScaler\n",
    "import numpy as np\n",
    "\n",
    "# 데이터 불러오기\n",
    "merged_df = pd.read_csv(\"C:/Users/유하민/git/exchange_rate_and_KOSPI/data/processed/merged_exchange_kospi_data.csv\")\n",
    "\n",
    "# 특징 추출: 변동률 계산\n",
    "merged_df['Exchange_Rate_Change'] = merged_df['Exchange_Rate'].pct_change().fillna(0)\n",
    "merged_df['KOSPI_Change'] = merged_df['Closing_Price'].pct_change().fillna(0)\n",
    "\n",
    "features = merged_df[['Exchange_Rate_Change', 'KOSPI_Change']]\n",
    "\n",
    "# 데이터 표준화\n",
    "scaler = StandardScaler()\n",
    "scaled_features = scaler.fit_transform(features)\n",
    "\n",
    "# 최적의 클러스터 수 결정 (엘보우 방법)\n",
    "inertia = []\n",
    "for k in range(1, 11):\n",
    "    kmeans = KMeans(n_clusters=k, random_state=42)\n",
    "    kmeans.fit(scaled_features)\n",
    "    inertia.append(kmeans.inertia_)\n",
    "\n",
    "plt.figure(figsize=(8, 4))\n",
    "plt.plot(range(1, 11), inertia, marker='o')\n",
    "plt.xlabel('Number of Clusters')\n",
    "plt.ylabel('Inertia')\n",
    "plt.title('Elbow Method for Optimal k')\n",
    "plt.show()\n",
    "\n",
    "# 클러스터링\n",
    "optimal_k = 3  # 예를 들어, 엘보우 방법으로 k=3 결정\n",
    "kmeans = KMeans(n_clusters=optimal_k, random_state=42)\n",
    "merged_df['Cluster'] = kmeans.fit_predict(scaled_features)\n",
    "\n",
    "# 클러스터링 결과 시각화\n",
    "plt.figure(figsize=(10, 6))\n",
    "plt.scatter(merged_df['Exchange_Rate_Change'], merged_df['KOSPI_Change'], c=merged_df['Cluster'], cmap='viridis')\n",
    "plt.xlabel('Exchange Rate Change')\n",
    "plt.ylabel('KOSPI Change')\n",
    "plt.title('KMeans Clustering of Exchange Rate and KOSPI Changes')\n",
    "plt.show()\n"
   ]
  }
 ],
 "metadata": {
  "kernelspec": {
   "display_name": "wpy38",
   "language": "python",
   "name": "python3"
  },
  "language_info": {
   "name": "python",
   "version": "3.8.20"
  }
 },
 "nbformat": 4,
 "nbformat_minor": 2
}
